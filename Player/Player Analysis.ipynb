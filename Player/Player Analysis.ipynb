{
 "cells": [
  {
   "cell_type": "code",
   "execution_count": 9,
   "metadata": {
    "collapsed": false
   },
   "outputs": [],
   "source": [
    "#Import Packages\n",
    "import pandas as pd\n",
    "import time\n",
    "from Players import Players"
   ]
  },
  {
   "cell_type": "code",
   "execution_count": 13,
   "metadata": {
    "collapsed": false
   },
   "outputs": [
    {
     "name": "stdout",
     "output_type": "stream",
     "text": [
      "The slowest run took 9.64 times longer than the fastest. This could mean that an intermediate result is being cached.\n",
      "1 loop, best of 1: 8.74 s per loop\n"
     ]
    }
   ],
   "source": [
    "%%timeit -r1\n",
    "p_list = Players('2015-16', 0, 100)"
   ]
  },
  {
   "cell_type": "code",
   "execution_count": 15,
   "metadata": {
    "collapsed": false
   },
   "outputs": [
    {
     "name": "stdout",
     "output_type": "stream",
     "text": [
      "The slowest run took 4.94 times longer than the fastest. This could mean that an intermediate result is being cached.\n",
      "1 loop, best of 1: 22.7 s per loop\n"
     ]
    }
   ],
   "source": [
    "%%timeit -r1\n",
    "p_list = Players('2015-16', 100, 200)"
   ]
  },
  {
   "cell_type": "code",
   "execution_count": 16,
   "metadata": {
    "collapsed": false
   },
   "outputs": [
    {
     "name": "stdout",
     "output_type": "stream",
     "text": [
      "The slowest run took 4.21 times longer than the fastest. This could mean that an intermediate result is being cached.\n",
      "1 loop, best of 1: 31.3 s per loop\n"
     ]
    }
   ],
   "source": [
    "%%timeit -r1\n",
    "p_list = Players('2015-16', 200, 300)"
   ]
  },
  {
   "cell_type": "code",
   "execution_count": 17,
   "metadata": {
    "collapsed": false
   },
   "outputs": [
    {
     "name": "stdout",
     "output_type": "stream",
     "text": [
      "1 loop, best of 1: 38.5 s per loop\n"
     ]
    }
   ],
   "source": [
    "%%timeit -r1\n",
    "p_list = Players('2015-16', 300, 400)"
   ]
  },
  {
   "cell_type": "code",
   "execution_count": 14,
   "metadata": {
    "collapsed": false
   },
   "outputs": [
    {
     "name": "stdout",
     "output_type": "stream",
     "text": [
      "The slowest run took 7.05 times longer than the fastest. This could mean that an intermediate result is being cached.\n",
      "1 loop, best of 1: 11.1 s per loop\n"
     ]
    }
   ],
   "source": [
    "%%timeit -r1\n",
    "p_list = Players('2015-16', 400, 500)"
   ]
  },
  {
   "cell_type": "code",
   "execution_count": null,
   "metadata": {
    "collapsed": true
   },
   "outputs": [],
   "source": []
  }
 ],
 "metadata": {
  "kernelspec": {
   "display_name": "Python 2",
   "language": "python",
   "name": "python2"
  },
  "language_info": {
   "codemirror_mode": {
    "name": "ipython",
    "version": 2
   },
   "file_extension": ".py",
   "mimetype": "text/x-python",
   "name": "python",
   "nbconvert_exporter": "python",
   "pygments_lexer": "ipython2",
   "version": "2.7.11"
  }
 },
 "nbformat": 4,
 "nbformat_minor": 0
}
